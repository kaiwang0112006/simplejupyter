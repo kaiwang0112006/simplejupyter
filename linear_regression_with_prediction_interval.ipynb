{
 "cells": [
  {
   "cell_type": "code",
   "execution_count": 3,
   "metadata": {
    "collapsed": false
   },
   "outputs": [],
   "source": [
    "import pandas as pd\n",
    "import numpy as np\n",
    "from sklearn import datasets, linear_model\n",
    "from __future__ import division"
   ]
  },
  {
   "cell_type": "code",
   "execution_count": 4,
   "metadata": {
    "collapsed": true
   },
   "outputs": [],
   "source": [
    "class LRPI:\n",
    "    def __init__(self, normalize=False, n_jobs=1, t_value = 2.13144955):\n",
    "        self.normalize = normalize\n",
    "        self.n_jobs = n_jobs\n",
    "        self.LR = linear_model.LinearRegression(normalize=self.normalize, n_jobs= self.n_jobs)\n",
    "        self.t_value = t_value\n",
    "        \n",
    "    def fit(self, X_train, y_train):\n",
    "        self.X_train = pd.DataFrame(X_train.values)\n",
    "        self.y_train = pd.DataFrame(y_train.values)\n",
    "        \n",
    "        self.LR.fit(self.X_train, self.y_train)\n",
    "        X_train_fit = self.LR.predict(self.X_train)\n",
    "        self.MSE = np.power(self.y_train.subtract(X_train_fit), 2).sum(axis=0) / (self.X_train.shape[0] - self.X_train.shape[1] - 1)\n",
    "        self.X_train.loc[:, 'const_one'] = 1\n",
    "        self.XTX_inv = np.linalg.inv(np.dot(np.transpose(self.X_train.values) , self.X_train.values))\n",
    "        \n",
    "    def predict(self, X_test):\n",
    "        self.X_test = pd.DataFrame(X_test.values)\n",
    "        self.pred = self.LR.predict(self.X_test)\n",
    "        self.X_test.loc[: , 'const_one'] =1\n",
    "        SE = [np.dot(np.transpose(self.X_test.values[i]) , np.dot(self.XTX_inv, self.X_test.values[i]) ) for i in range(len(self.X_test)) ]\n",
    "        results = pd.DataFrame(self.pred , columns=['Pred'])\n",
    "        \n",
    "        results.loc[:,\"lower\"] = results['Pred'].subtract((self.t_value)* (np.sqrt(self.MSE.values + np.multiply(SE,self.MSE.values) )),  axis=0)\n",
    "        results.loc[:,\"upper\"] = results['Pred'].add((self.t_value)* (np.sqrt(self.MSE.values + np.multiply(SE,self.MSE.values) )),  axis=0)\n",
    "        \n",
    "        return results"
   ]
  },
  {
   "cell_type": "code",
   "execution_count": 5,
   "metadata": {
    "collapsed": false
   },
   "outputs": [],
   "source": [
    "data = pd.DataFrame(datasets.load_diabetes().data)\n",
    "target = pd.DataFrame(datasets.load_diabetes().target)"
   ]
  },
  {
   "cell_type": "code",
   "execution_count": 6,
   "metadata": {
    "collapsed": false
   },
   "outputs": [],
   "source": [
    "X_train = data.iloc[:-30 ]\n",
    "y_train = target.iloc[: -30 ]\n",
    "\n",
    "X_test = data.iloc[-30: ]\n",
    "y_test = target.iloc[-30: ]"
   ]
  },
  {
   "cell_type": "code",
   "execution_count": 8,
   "metadata": {
    "collapsed": false
   },
   "outputs": [],
   "source": [
    "model = LRPI()\n",
    "model.fit(X_train, y_train)"
   ]
  },
  {
   "cell_type": "code",
   "execution_count": 11,
   "metadata": {
    "collapsed": false
   },
   "outputs": [
    {
     "name": "stdout",
     "output_type": "stream",
     "text": [
      "(11, 11)\n",
      "(412, 10)\n"
     ]
    }
   ],
   "source": [
    "results = model.predict(X_test)\n",
    "results.head(10)\n",
    "print(model.XTX_inv.shape)\n",
    "print(X_train.shape)"
   ]
  },
  {
   "cell_type": "code",
   "execution_count": 13,
   "metadata": {
    "collapsed": false
   },
   "outputs": [
    {
     "data": {
      "text/plain": [
       "array([[  9.43201324e-01,   1.45962354e-01,   1.75504197e-01,\n",
       "          3.03796429e-01,   2.48383317e-01,   2.01398760e-01,\n",
       "         -4.65022818e-02,   1.74747150e-01,   2.51031548e-01,\n",
       "          2.74167894e-01,   9.64184188e-02],\n",
       "       [  1.45962354e-01,   9.33306544e-01,   7.75393842e-02,\n",
       "          2.10198679e-01,   3.22494715e-02,   1.34628559e-01,\n",
       "         -3.43981595e-01,   3.05634795e-01,   1.23371545e-01,\n",
       "          1.98230482e-01,   1.95388032e-01],\n",
       "       [  1.75504197e-01,   7.75393842e-02,   9.31669973e-01,\n",
       "          3.54577426e-01,   2.42588027e-01,   2.51700261e-01,\n",
       "         -3.38508008e-01,   3.99091822e-01,   4.19056369e-01,\n",
       "          3.56574201e-01,   4.71408665e-02],\n",
       "       [  3.03796429e-01,   2.10198679e-01,   3.54577426e-01,\n",
       "          9.29429305e-01,   2.34985087e-01,   1.75159398e-01,\n",
       "         -1.49237106e-01,   2.37615265e-01,   3.66648810e-01,\n",
       "          3.62065728e-01,   1.86185047e-01],\n",
       "       [  2.48383317e-01,   3.22494715e-02,   2.42588027e-01,\n",
       "          2.34985087e-01,   9.21399204e-01,   8.22441338e-01,\n",
       "          3.73722776e-02,   5.05145502e-01,   4.87804251e-01,\n",
       "          3.05325494e-01,  -4.41394470e-01],\n",
       "       [  2.01398760e-01,   1.34628559e-01,   2.51700261e-01,\n",
       "          1.75159398e-01,   8.22441338e-01,   9.18469367e-01,\n",
       "         -1.85143024e-01,   6.08094793e-01,   2.93359422e-01,\n",
       "          2.67982224e-01,  -5.45858152e-01],\n",
       "       [ -4.65022818e-02,  -3.43981595e-01,  -3.38508008e-01,\n",
       "         -1.49237106e-01,   3.73722776e-02,  -1.85143024e-01,\n",
       "          9.11544186e-01,  -6.86214676e-01,  -3.71862880e-01,\n",
       "         -2.60301828e-01,  -1.85356303e-01],\n",
       "       [  1.74747150e-01,   3.05634795e-01,   3.99091822e-01,\n",
       "          2.37615265e-01,   5.05145502e-01,   6.08094793e-01,\n",
       "         -6.86214676e-01,   9.35457795e-01,   5.82081766e-01,\n",
       "          3.99868491e-01,  -1.25188305e-01],\n",
       "       [  2.51031548e-01,   1.23371545e-01,   4.19056369e-01,\n",
       "          3.66648810e-01,   4.87804251e-01,   2.93359422e-01,\n",
       "         -3.71862880e-01,   5.82081766e-01,   9.52773092e-01,\n",
       "          4.47868551e-01,   1.84436108e-01],\n",
       "       [  2.74167894e-01,   1.98230482e-01,   3.56574201e-01,\n",
       "          3.62065728e-01,   3.05325494e-01,   2.67982224e-01,\n",
       "         -2.60301828e-01,   3.99868491e-01,   4.47868551e-01,\n",
       "          9.34841810e-01,  -4.31585049e-01],\n",
       "       [  9.64184188e-02,   1.95388032e-01,   4.71408665e-02,\n",
       "          1.86185047e-01,  -4.41394470e-01,  -5.45858152e-01,\n",
       "         -1.85356303e-01,  -1.25188305e-01,   1.84436108e-01,\n",
       "         -4.31585049e-01,   4.12000000e+02]])"
      ]
     },
     "execution_count": 13,
     "metadata": {},
     "output_type": "execute_result"
    }
   ],
   "source": [
    "np.dot(np.transpose(model.X_train.values) , model.X_train.values)"
   ]
  },
  {
   "cell_type": "code",
   "execution_count": 15,
   "metadata": {
    "collapsed": false
   },
   "outputs": [
    {
     "data": {
      "text/plain": [
       "array([[  1.28101416e+00,  -1.29240162e-01,  -1.95213355e-02,\n",
       "         -2.50014031e-01,   1.36636050e-01,  -2.92813534e-01,\n",
       "         -1.85390915e-01,   7.43963507e-02,  -2.29651518e-01,\n",
       "         -1.78354851e-01,  -5.09673755e-04],\n",
       "       [ -1.29240162e-01,   1.36287459e+00,   2.08653700e-01,\n",
       "         -2.63140239e-01,   4.08252398e-01,  -2.89247279e-01,\n",
       "          2.41015287e-01,  -2.96028782e-01,   8.06023146e-02,\n",
       "         -1.24350710e-01,  -6.14754243e-04],\n",
       "       [ -1.95213355e-02,   2.08653700e-01,   1.60466297e+00,\n",
       "         -3.60828247e-01,   7.84686569e-01,  -8.17363510e-01,\n",
       "          1.01975387e-01,  -1.77521064e-02,  -5.86700482e-01,\n",
       "         -2.15872396e-01,  -2.80189180e-04],\n",
       "       [ -2.50014031e-01,  -2.63140239e-01,  -3.60828247e-01,\n",
       "          1.54099512e+00,  -3.30702420e-01,   1.61240514e-01,\n",
       "          1.17849684e-01,   3.13946910e-01,  -2.40616305e-01,\n",
       "         -2.54775123e-01,  -6.23223271e-04],\n",
       "       [  1.36636050e-01,   4.08252398e-01,   7.84686569e-01,\n",
       "         -3.30702420e-01,   6.08291394e+01,  -4.74158157e+01,\n",
       "         -2.72871419e+01,  -8.66324622e+00,  -2.23127910e+01,\n",
       "          2.23395322e-01,  -2.50414340e-03],\n",
       "       [ -2.92813534e-01,  -2.89247279e-01,  -8.17363510e-01,\n",
       "          1.61240514e-01,  -4.74158157e+01,   4.00642821e+01,\n",
       "          1.92106801e+01,   2.88000290e+00,   1.81808259e+01,\n",
       "         -1.93237094e-01,   3.68533792e-03],\n",
       "       [ -1.85390915e-01,   2.41015287e-01,   1.01975387e-01,\n",
       "          1.17849684e-01,  -2.72871419e+01,   1.92106801e+01,\n",
       "          1.63094287e+01,   8.37268123e+00,   9.31724739e+00,\n",
       "         -1.79117639e-01,   1.60539612e-03],\n",
       "       [  7.43963507e-02,  -2.96028782e-01,  -1.77521064e-02,\n",
       "          3.13946910e-01,  -8.66324622e+00,   2.88000290e+00,\n",
       "          8.37268123e+00,   9.49714705e+00,   1.06657321e+00,\n",
       "         -3.11760257e-01,   3.66046900e-04],\n",
       "       [ -2.29651518e-01,   8.06023146e-02,  -5.86700482e-01,\n",
       "         -2.40616305e-01,  -2.23127910e+01,   1.81808259e+01,\n",
       "          9.31724739e+00,   1.06657321e+00,   1.04642872e+01,\n",
       "         -4.32257117e-01,  -2.46978153e-04],\n",
       "       [ -1.78354851e-01,  -1.24350710e-01,  -2.15872396e-01,\n",
       "         -2.54775123e-01,   2.23395322e-01,  -1.93237094e-01,\n",
       "         -1.79117639e-01,  -3.11760257e-01,  -4.32257117e-01,\n",
       "          1.60327349e+00,   1.92153847e-03],\n",
       "       [ -5.09673755e-04,  -6.14754243e-04,  -2.80189180e-04,\n",
       "         -6.23223271e-04,  -2.50414340e-03,   3.68533792e-03,\n",
       "          1.60539612e-03,   3.66046900e-04,  -2.46978153e-04,\n",
       "          1.92153847e-03,   2.43306580e-03]])"
      ]
     },
     "execution_count": 15,
     "metadata": {},
     "output_type": "execute_result"
    }
   ],
   "source": [
    "np.linalg.inv(np.dot(np.transpose(model.X_train.values) , model.X_train.values))"
   ]
  },
  {
   "cell_type": "code",
   "execution_count": null,
   "metadata": {
    "collapsed": true
   },
   "outputs": [],
   "source": []
  }
 ],
 "metadata": {
  "anaconda-cloud": {},
  "kernelspec": {
   "display_name": "Python [conda root]",
   "language": "python",
   "name": "conda-root-py"
  },
  "language_info": {
   "codemirror_mode": {
    "name": "ipython",
    "version": 3
   },
   "file_extension": ".py",
   "mimetype": "text/x-python",
   "name": "python",
   "nbconvert_exporter": "python",
   "pygments_lexer": "ipython3",
   "version": "3.5.2"
  }
 },
 "nbformat": 4,
 "nbformat_minor": 0
}
