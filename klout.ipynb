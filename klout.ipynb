{
 "cells": [
  {
   "cell_type": "code",
   "execution_count": 1,
   "metadata": {
    "collapsed": false
   },
   "outputs": [
    {
     "name": "stdout",
     "output_type": "stream",
     "text": [
      "/Users/wangkai/Downloads\n",
      "37.7190548325\n",
      "16.0366584217\n"
     ]
    }
   ],
   "source": [
    "import numpy\n",
    "import os\n",
    "print(os.getcwd())\n",
    "fin = open('Klout.txt')\n",
    "data = []\n",
    "for eachline in fin:\n",
    "    data.append(float(eachline.strip()))\n",
    "print(numpy.mean(data))\n",
    "print(numpy.std(data))"
   ]
  },
  {
   "cell_type": "code",
   "execution_count": 2,
   "metadata": {
    "collapsed": false
   },
   "outputs": [
    {
     "name": "stdout",
     "output_type": "stream",
     "text": [
      "2.71069001935\n"
     ]
    }
   ],
   "source": [
    "stdfirts = numpy.std(data)\n",
    "import math\n",
    "print(stdfirts/math.sqrt(35))"
   ]
  },
  {
   "cell_type": "code",
   "execution_count": 3,
   "metadata": {
    "collapsed": false
   },
   "outputs": [
    {
     "name": "stdout",
     "output_type": "stream",
     "text": [
      "[31.74255264]\n"
     ]
    }
   ],
   "source": [
    "import random\n",
    "print(random.sample(data, 1))"
   ]
  },
  {
   "cell_type": "code",
   "execution_count": 5,
   "metadata": {
    "collapsed": false
   },
   "outputs": [
    {
     "name": "stdout",
     "output_type": "stream",
     "text": [
      "42.606995988\n"
     ]
    }
   ],
   "source": [
    "print(numpy.mean(random.sample(data, 5)))"
   ]
  },
  {
   "cell_type": "code",
   "execution_count": 6,
   "metadata": {
    "collapsed": false
   },
   "outputs": [
    {
     "name": "stdout",
     "output_type": "stream",
     "text": [
      "47.354020694\n"
     ]
    }
   ],
   "source": [
    "print(numpy.mean(random.sample(data, 10)))"
   ]
  },
  {
   "cell_type": "code",
   "execution_count": null,
   "metadata": {
    "collapsed": true
   },
   "outputs": [],
   "source": []
  }
 ],
 "metadata": {
  "kernelspec": {
   "display_name": "Python 3",
   "language": "python",
   "name": "python3"
  },
  "language_info": {
   "codemirror_mode": {
    "name": "ipython",
    "version": 3
   },
   "file_extension": ".py",
   "mimetype": "text/x-python",
   "name": "python",
   "nbconvert_exporter": "python",
   "pygments_lexer": "ipython3",
   "version": "3.5.1"
  }
 },
 "nbformat": 4,
 "nbformat_minor": 0
}
