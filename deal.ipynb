{
 "cells": [
  {
   "cell_type": "code",
   "execution_count": 1,
   "metadata": {
    "collapsed": false
   },
   "outputs": [
    {
     "name": "stdout",
     "output_type": "stream",
     "text": [
      "    The values below are prize amounts in USD in the game show \"Deal or No Deal.\"\n",
      "0                                                0.01                            \n",
      "1                                                1.00                            \n",
      "2                                                5.00                            \n",
      "3                                               10.00                            \n",
      "4                                               25.00                            \n",
      "5                                               50.00                            \n",
      "6                                               75.00                            \n",
      "7                                              100.00                            \n",
      "8                                              200.00                            \n",
      "9                                              300.00                            \n",
      "10                                             400.00                            \n",
      "11                                             500.00                            \n",
      "12                                             750.00                            \n",
      "13                                            1000.00                            \n",
      "14                                            5000.00                            \n",
      "15                                           10000.00                            \n",
      "16                                           25000.00                            \n",
      "17                                           50000.00                            \n",
      "18                                           75000.00                            \n",
      "19                                          100000.00                            \n",
      "20                                          200000.00                            \n",
      "21                                          300000.00                            \n",
      "22                                          400000.00                            \n",
      "23                                          500000.00                            \n",
      "24                                          750000.00                            \n",
      "25                                         1000000.00                            \n"
     ]
    }
   ],
   "source": [
    "import pandas \n",
    "pin = pandas.read_csv('Deal.txt')\n",
    "print pin"
   ]
  },
  {
   "cell_type": "code",
   "execution_count": 2,
   "metadata": {
    "collapsed": false
   },
   "outputs": [
    {
     "name": "stdout",
     "output_type": "stream",
     "text": [
      "             a\n",
      "0         0.01\n",
      "1         1.00\n",
      "2         5.00\n",
      "3        10.00\n",
      "4        25.00\n",
      "5        50.00\n",
      "6        75.00\n",
      "7       100.00\n",
      "8       200.00\n",
      "9       300.00\n",
      "10      400.00\n",
      "11      500.00\n",
      "12      750.00\n",
      "13     1000.00\n",
      "14     5000.00\n",
      "15    10000.00\n",
      "16    25000.00\n",
      "17    50000.00\n",
      "18    75000.00\n",
      "19   100000.00\n",
      "20   200000.00\n",
      "21   300000.00\n",
      "22   400000.00\n",
      "23   500000.00\n",
      "24   750000.00\n",
      "25  1000000.00\n"
     ]
    }
   ],
   "source": [
    "pin.rename(columns={'''The values below are prize amounts in USD in the game show \"Deal or No Deal.\"''': 'a'}, inplace=True)\n",
    "print pin"
   ]
  },
  {
   "cell_type": "code",
   "execution_count": 19,
   "metadata": {
    "collapsed": false
   },
   "outputs": [
    {
     "name": "stdout",
     "output_type": "stream",
     "text": [
      "11\n",
      "0.423076923077\n",
      "[     0    500   1000 ..., 998500 999000 999500]\n"
     ]
    },
    {
     "data": {
      "image/png": "[encoded data removed]",
      "text/plain": [
       "<matplotlib.figure.Figure at 0xa65e950>"
      ]
     },
     "metadata": {},
     "output_type": "display_data"
    }
   ],
   "source": [
    "%matplotlib inline \n",
    "import matplotlib.pyplot as plt\n",
    "import numpy as np\n",
    "binwidth = 500\n",
    "binrange = range(int(min(pin['a'])), int(max(pin['a'])), binwidth)\n",
    "hist, bin_edges = np.histogram(pin['a'], bins=binrange)\n",
    "print max(hist)\n",
    "print float(max(hist))/len(pin['a'])\n",
    "print bin_edges\n",
    "n, bins, patches = plt.hist(pin['a'], bins=binrange, facecolor='green')\n",
    "\n",
    "plt.show()"
   ]
  },
  {
   "cell_type": "code",
   "execution_count": 20,
   "metadata": {
    "collapsed": false
   },
   "outputs": [
    {
     "data": {
      "image/png": "[encoded data removed]",
      "text/plain": [
       "<matplotlib.figure.Figure at 0x9537130>"
      ]
     },
     "metadata": {},
     "output_type": "display_data"
    }
   ],
   "source": [
    "n, bins, patches = plt.hist(pin['a'], bins=10, facecolor='green')\n",
    "plt.show()"
   ]
  },
  {
   "cell_type": "code",
   "execution_count": null,
   "metadata": {
    "collapsed": true
   },
   "outputs": [],
   "source": []
  }
 ],
 "metadata": {
  "kernelspec": {
   "display_name": "Python 2",
   "language": "python",
   "name": "python2"
  },
  "language_info": {
   "codemirror_mode": {
    "name": "ipython",
    "version": 2
   },
   "file_extension": ".py",
   "mimetype": "text/x-python",
   "name": "python",
   "nbconvert_exporter": "python",
   "pygments_lexer": "ipython2",
   "version": "2.7.5"
  }
 },
 "nbformat": 4,
 "nbformat_minor": 0
}
