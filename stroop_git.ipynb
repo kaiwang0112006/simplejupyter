{
 "cells": [
  {
   "cell_type": "markdown",
   "metadata": {},
   "source": [
    "# A t-test report for the stroop effect\n",
    "\n",
    "## 1. Introduction\n",
    "\n",
    "The stroop effect is a psychological phenomenon that was demonstrated by a well-designed experiment. A group of participants were timed reading out a list of randomly ordered colour names, first the words is displayed in ink in which they are printed which is called *congruent words condition*, and then the words is displayed in a colour other than the one they name (e.g. the word \"red'' in blue ink) which is called  *incongruent words condition*.\n",
    "\n",
    "## 2. Data\n",
    "\n",
    "The dataset contains 24 participants in the task and each line contains the time of *congruent words condition* and *incongruent words condition* for each person."
   ]
  },
  {
   "cell_type": "code",
   "execution_count": 2,
   "metadata": {
    "collapsed": false,
    "scrolled": true
   },
   "outputs": [
    {
     "data": {
      "text/html": [
       "<div style=\"max-height:1000px;max-width:1500px;overflow:auto;\">\n",
       "<table border=\"1\" class=\"dataframe\">\n",
       "  <thead>\n",
       "    <tr style=\"text-align: right;\">\n",
       "      <th></th>\n",
       "      <th>Congruent</th>\n",
       "      <th>Incongruent</th>\n",
       "    </tr>\n",
       "  </thead>\n",
       "  <tbody>\n",
       "    <tr>\n",
       "      <th>0</th>\n",
       "      <td>12.079</td>\n",
       "      <td>19.278</td>\n",
       "    </tr>\n",
       "    <tr>\n",
       "      <th>1</th>\n",
       "      <td>16.791</td>\n",
       "      <td>18.741</td>\n",
       "    </tr>\n",
       "    <tr>\n",
       "      <th>2</th>\n",
       "      <td>9.564</td>\n",
       "      <td>21.214</td>\n",
       "    </tr>\n",
       "    <tr>\n",
       "      <th>3</th>\n",
       "      <td>8.630</td>\n",
       "      <td>15.687</td>\n",
       "    </tr>\n",
       "    <tr>\n",
       "      <th>4</th>\n",
       "      <td>14.669</td>\n",
       "      <td>22.803</td>\n",
       "    </tr>\n",
       "    <tr>\n",
       "      <th>5</th>\n",
       "      <td>12.238</td>\n",
       "      <td>20.878</td>\n",
       "    </tr>\n",
       "    <tr>\n",
       "      <th>6</th>\n",
       "      <td>14.692</td>\n",
       "      <td>24.572</td>\n",
       "    </tr>\n",
       "    <tr>\n",
       "      <th>7</th>\n",
       "      <td>8.987</td>\n",
       "      <td>17.394</td>\n",
       "    </tr>\n",
       "    <tr>\n",
       "      <th>8</th>\n",
       "      <td>9.401</td>\n",
       "      <td>20.762</td>\n",
       "    </tr>\n",
       "    <tr>\n",
       "      <th>9</th>\n",
       "      <td>14.480</td>\n",
       "      <td>26.282</td>\n",
       "    </tr>\n",
       "    <tr>\n",
       "      <th>10</th>\n",
       "      <td>22.328</td>\n",
       "      <td>24.524</td>\n",
       "    </tr>\n",
       "    <tr>\n",
       "      <th>11</th>\n",
       "      <td>15.298</td>\n",
       "      <td>18.644</td>\n",
       "    </tr>\n",
       "    <tr>\n",
       "      <th>12</th>\n",
       "      <td>15.073</td>\n",
       "      <td>17.510</td>\n",
       "    </tr>\n",
       "    <tr>\n",
       "      <th>13</th>\n",
       "      <td>16.929</td>\n",
       "      <td>20.330</td>\n",
       "    </tr>\n",
       "    <tr>\n",
       "      <th>14</th>\n",
       "      <td>18.200</td>\n",
       "      <td>35.255</td>\n",
       "    </tr>\n",
       "    <tr>\n",
       "      <th>15</th>\n",
       "      <td>12.130</td>\n",
       "      <td>22.158</td>\n",
       "    </tr>\n",
       "    <tr>\n",
       "      <th>16</th>\n",
       "      <td>18.495</td>\n",
       "      <td>25.139</td>\n",
       "    </tr>\n",
       "    <tr>\n",
       "      <th>17</th>\n",
       "      <td>10.639</td>\n",
       "      <td>20.429</td>\n",
       "    </tr>\n",
       "    <tr>\n",
       "      <th>18</th>\n",
       "      <td>11.344</td>\n",
       "      <td>17.425</td>\n",
       "    </tr>\n",
       "    <tr>\n",
       "      <th>19</th>\n",
       "      <td>12.369</td>\n",
       "      <td>34.288</td>\n",
       "    </tr>\n",
       "    <tr>\n",
       "      <th>20</th>\n",
       "      <td>12.944</td>\n",
       "      <td>23.894</td>\n",
       "    </tr>\n",
       "    <tr>\n",
       "      <th>21</th>\n",
       "      <td>14.233</td>\n",
       "      <td>17.960</td>\n",
       "    </tr>\n",
       "    <tr>\n",
       "      <th>22</th>\n",
       "      <td>19.710</td>\n",
       "      <td>22.058</td>\n",
       "    </tr>\n",
       "    <tr>\n",
       "      <th>23</th>\n",
       "      <td>16.004</td>\n",
       "      <td>21.157</td>\n",
       "    </tr>\n",
       "  </tbody>\n",
       "</table>\n",
       "</div>"
      ],
      "text/plain": [
       "    Congruent  Incongruent\n",
       "0      12.079       19.278\n",
       "1      16.791       18.741\n",
       "2       9.564       21.214\n",
       "3       8.630       15.687\n",
       "4      14.669       22.803\n",
       "5      12.238       20.878\n",
       "6      14.692       24.572\n",
       "7       8.987       17.394\n",
       "8       9.401       20.762\n",
       "9      14.480       26.282\n",
       "10     22.328       24.524\n",
       "11     15.298       18.644\n",
       "12     15.073       17.510\n",
       "13     16.929       20.330\n",
       "14     18.200       35.255\n",
       "15     12.130       22.158\n",
       "16     18.495       25.139\n",
       "17     10.639       20.429\n",
       "18     11.344       17.425\n",
       "19     12.369       34.288\n",
       "20     12.944       23.894\n",
       "21     14.233       17.960\n",
       "22     19.710       22.058\n",
       "23     16.004       21.157"
      ]
     },
     "execution_count": 2,
     "metadata": {},
     "output_type": "execute_result"
    }
   ],
   "source": [
    "import pandas as pd\n",
    "data = pd.read_csv('stroopdata.csv')\n",
    "data"
   ]
  },
  {
   "cell_type": "markdown",
   "metadata": {},
   "source": [
    "#### Dependent  and independent variable\n",
    "\n",
    "The independent variable in this data set is the different way of displaying the word, e.g. whether or not the word was displayed in a colour that match their name. The dependent variable is the time each participants used to finish the task.\n",
    "\n",
    "#### Simple data vistualization"
   ]
  },
  {
   "cell_type": "code",
   "execution_count": 11,
   "metadata": {
    "collapsed": false
   },
   "outputs": [
    {
     "data": {
      "image/png": "[encoded data removed]",
      "text/plain": [
       "<matplotlib.figure.Figure at 0x6baf5f0>"
      ]
     },
     "metadata": {},
     "output_type": "display_data"
    }
   ],
   "source": [
    "%matplotlib inline \n",
    "import pylab as plt\n",
    "x = range(len(data))\n",
    "y1 = data['Congruent']\n",
    "y2 = data['Incongruent']\n",
    "plt.plot(x, y1,label='Congruent')\n",
    "plt.plot(x, y2,label='Incongruent')\n",
    "plt.xlim(x[0],x[-1])\n",
    "plt.gca().axes.get_xaxis().set_visible(False)\n",
    "plt.fill_between(x, y1,color='blue',alpha=.5)\n",
    "plt.fill_between(x, y1,y2,color='green',alpha=.5)\n",
    "plt.ylabel('Time')\n",
    "plt.title(r'Stroop Data')\n",
    "plt.legend()\n",
    "plt.show()"
   ]
  },
  {
   "cell_type": "code",
   "execution_count": 4,
   "metadata": {
    "collapsed": false
   },
   "outputs": [
    {
     "data": {
      "image/png": "[encoded data removed]",
      "text/plain": [
       "<matplotlib.figure.Figure at 0x5d5ba50>"
      ]
     },
     "metadata": {},
     "output_type": "display_data"
    }
   ],
   "source": [
    "plot = plt.boxplot([y1,y2],               \n",
    "                    vert=True,       \n",
    "                    widths = 0.2,  \n",
    "                    patch_artist=True)\n",
    "\n",
    "plt.setp(plot['boxes'][0], color='DarkMagenta', \n",
    "             linewidth=1.5, \n",
    "             facecolor='blue')\n",
    "\n",
    "plt.setp(plot['boxes'][1], color='DarkMagenta', \n",
    "             linewidth=1.5, \n",
    "             facecolor='green')\n",
    "\n",
    "plt.xticks([1,2],               # tick marks\n",
    "           ['Congruent','Incongruent'] # labels\n",
    "           )\n",
    "\n",
    "plt.ylabel('Time')                  # y-axis label\n",
    "plt.title('Box and Whisker Plots of the stroop Data')  # plot title\n",
    "plt.show()"
   ]
  },
  {
   "cell_type": "markdown",
   "metadata": {},
   "source": [
    "A simple observation is shown on the two plots, e.g. the incongruent condition tend to take longer time than the congruent condition. In the rest of the report, we'll perform a statistical test on the dataset."
   ]
  },
  {
   "cell_type": "markdown",
   "metadata": {
    "variables": {
     "len(data)": "24"
    }
   },
   "source": [
    "# 3. Statistical Test \n",
    "\n",
    "#### T-test\n",
    "\n",
    "As shown in the table above, the sample size is 24. It's less than 30. And central limit theorem tells us the distribution of the sample mean is normal, and from the simple observation above, we choose to do a one-tail t-test."
   ]
  },
  {
   "cell_type": "markdown",
   "metadata": {},
   "source": [
    "#### Hypothesis\n",
    "\n",
    "A one-tailed t-test of two dependent samples will be performed.\n",
    "\n",
    "Null hypothesis is: Shuffling the words by changing their colour other than their names won't change the speed that people recognize th words' colour.\n",
    "\n",
    "Alternative hypothesis: Shuffling the words by changing their colour other than their names will slow down the speed that people recognize th words' colour.\n",
    "\n",
    "\n",
    "To write down as math formulas:\n",
    "\n",
    "$H_{0}: \\mu_{c} \\ge \\mu_{i}$\n",
    "\n",
    "$H_{A}: \\mu_{c} < \\mu_{i}$\n",
    "\n",
    "$\\alpha = 0.05$\n",
    "\n",
    "where $\\mu_{c}$ is the average time used when people in congruent condition, and $\\mu_{i}$ is the average time used when people in incongruent condition. $\\alpha$ is the alpha levels."
   ]
  },
  {
   "cell_type": "markdown",
   "metadata": {
    "collapsed": true
   },
   "source": [
    "# 4. Result\n",
    "\n",
    "#### Descriptive statistics"
   ]
  },
  {
   "cell_type": "code",
   "execution_count": 5,
   "metadata": {
    "collapsed": false
   },
   "outputs": [
    {
     "name": "stdout",
     "output_type": "stream",
     "text": [
      "sample difference:\n"
     ]
    },
    {
     "data": {
      "text/html": [
       "<div style=\"max-height:1000px;max-width:1500px;overflow:auto;\">\n",
       "<table border=\"1\" class=\"dataframe\">\n",
       "  <thead>\n",
       "    <tr style=\"text-align: right;\">\n",
       "      <th></th>\n",
       "      <th>Congruent</th>\n",
       "      <th>Incongruent</th>\n",
       "      <th>diff</th>\n",
       "    </tr>\n",
       "  </thead>\n",
       "  <tbody>\n",
       "    <tr>\n",
       "      <th>0</th>\n",
       "      <td>12.079</td>\n",
       "      <td>19.278</td>\n",
       "      <td>-7.199</td>\n",
       "    </tr>\n",
       "    <tr>\n",
       "      <th>1</th>\n",
       "      <td>16.791</td>\n",
       "      <td>18.741</td>\n",
       "      <td>-1.950</td>\n",
       "    </tr>\n",
       "    <tr>\n",
       "      <th>2</th>\n",
       "      <td>9.564</td>\n",
       "      <td>21.214</td>\n",
       "      <td>-11.650</td>\n",
       "    </tr>\n",
       "    <tr>\n",
       "      <th>3</th>\n",
       "      <td>8.630</td>\n",
       "      <td>15.687</td>\n",
       "      <td>-7.057</td>\n",
       "    </tr>\n",
       "    <tr>\n",
       "      <th>4</th>\n",
       "      <td>14.669</td>\n",
       "      <td>22.803</td>\n",
       "      <td>-8.134</td>\n",
       "    </tr>\n",
       "    <tr>\n",
       "      <th>5</th>\n",
       "      <td>12.238</td>\n",
       "      <td>20.878</td>\n",
       "      <td>-8.640</td>\n",
       "    </tr>\n",
       "    <tr>\n",
       "      <th>6</th>\n",
       "      <td>14.692</td>\n",
       "      <td>24.572</td>\n",
       "      <td>-9.880</td>\n",
       "    </tr>\n",
       "    <tr>\n",
       "      <th>7</th>\n",
       "      <td>8.987</td>\n",
       "      <td>17.394</td>\n",
       "      <td>-8.407</td>\n",
       "    </tr>\n",
       "    <tr>\n",
       "      <th>8</th>\n",
       "      <td>9.401</td>\n",
       "      <td>20.762</td>\n",
       "      <td>-11.361</td>\n",
       "    </tr>\n",
       "    <tr>\n",
       "      <th>9</th>\n",
       "      <td>14.480</td>\n",
       "      <td>26.282</td>\n",
       "      <td>-11.802</td>\n",
       "    </tr>\n",
       "    <tr>\n",
       "      <th>10</th>\n",
       "      <td>22.328</td>\n",
       "      <td>24.524</td>\n",
       "      <td>-2.196</td>\n",
       "    </tr>\n",
       "    <tr>\n",
       "      <th>11</th>\n",
       "      <td>15.298</td>\n",
       "      <td>18.644</td>\n",
       "      <td>-3.346</td>\n",
       "    </tr>\n",
       "    <tr>\n",
       "      <th>12</th>\n",
       "      <td>15.073</td>\n",
       "      <td>17.510</td>\n",
       "      <td>-2.437</td>\n",
       "    </tr>\n",
       "    <tr>\n",
       "      <th>13</th>\n",
       "      <td>16.929</td>\n",
       "      <td>20.330</td>\n",
       "      <td>-3.401</td>\n",
       "    </tr>\n",
       "    <tr>\n",
       "      <th>14</th>\n",
       "      <td>18.200</td>\n",
       "      <td>35.255</td>\n",
       "      <td>-17.055</td>\n",
       "    </tr>\n",
       "    <tr>\n",
       "      <th>15</th>\n",
       "      <td>12.130</td>\n",
       "      <td>22.158</td>\n",
       "      <td>-10.028</td>\n",
       "    </tr>\n",
       "    <tr>\n",
       "      <th>16</th>\n",
       "      <td>18.495</td>\n",
       "      <td>25.139</td>\n",
       "      <td>-6.644</td>\n",
       "    </tr>\n",
       "    <tr>\n",
       "      <th>17</th>\n",
       "      <td>10.639</td>\n",
       "      <td>20.429</td>\n",
       "      <td>-9.790</td>\n",
       "    </tr>\n",
       "    <tr>\n",
       "      <th>18</th>\n",
       "      <td>11.344</td>\n",
       "      <td>17.425</td>\n",
       "      <td>-6.081</td>\n",
       "    </tr>\n",
       "    <tr>\n",
       "      <th>19</th>\n",
       "      <td>12.369</td>\n",
       "      <td>34.288</td>\n",
       "      <td>-21.919</td>\n",
       "    </tr>\n",
       "    <tr>\n",
       "      <th>20</th>\n",
       "      <td>12.944</td>\n",
       "      <td>23.894</td>\n",
       "      <td>-10.950</td>\n",
       "    </tr>\n",
       "    <tr>\n",
       "      <th>21</th>\n",
       "      <td>14.233</td>\n",
       "      <td>17.960</td>\n",
       "      <td>-3.727</td>\n",
       "    </tr>\n",
       "    <tr>\n",
       "      <th>22</th>\n",
       "      <td>19.710</td>\n",
       "      <td>22.058</td>\n",
       "      <td>-2.348</td>\n",
       "    </tr>\n",
       "    <tr>\n",
       "      <th>23</th>\n",
       "      <td>16.004</td>\n",
       "      <td>21.157</td>\n",
       "      <td>-5.153</td>\n",
       "    </tr>\n",
       "  </tbody>\n",
       "</table>\n",
       "</div>"
      ],
      "text/plain": [
       "    Congruent  Incongruent    diff\n",
       "0      12.079       19.278  -7.199\n",
       "1      16.791       18.741  -1.950\n",
       "2       9.564       21.214 -11.650\n",
       "3       8.630       15.687  -7.057\n",
       "4      14.669       22.803  -8.134\n",
       "5      12.238       20.878  -8.640\n",
       "6      14.692       24.572  -9.880\n",
       "7       8.987       17.394  -8.407\n",
       "8       9.401       20.762 -11.361\n",
       "9      14.480       26.282 -11.802\n",
       "10     22.328       24.524  -2.196\n",
       "11     15.298       18.644  -3.346\n",
       "12     15.073       17.510  -2.437\n",
       "13     16.929       20.330  -3.401\n",
       "14     18.200       35.255 -17.055\n",
       "15     12.130       22.158 -10.028\n",
       "16     18.495       25.139  -6.644\n",
       "17     10.639       20.429  -9.790\n",
       "18     11.344       17.425  -6.081\n",
       "19     12.369       34.288 -21.919\n",
       "20     12.944       23.894 -10.950\n",
       "21     14.233       17.960  -3.727\n",
       "22     19.710       22.058  -2.348\n",
       "23     16.004       21.157  -5.153"
      ]
     },
     "execution_count": 5,
     "metadata": {},
     "output_type": "execute_result"
    }
   ],
   "source": [
    "import numpy\n",
    "import math\n",
    "mean_con = numpy.mean(data['Congruent'])\n",
    "mean_incon = numpy.mean(data['Incongruent'])\n",
    "sd_con = numpy.std(data['Congruent'],ddof=1)\n",
    "sd_incon = numpy.std(data['Incongruent'],ddof=1)\n",
    "data['diff'] = data['Congruent'] - data['Incongruent']\n",
    "sd_diff = numpy.std(data['diff'],ddof=1)\n",
    "sem = sd_diff/math.sqrt(len(data))\n",
    "print \"sample difference:\"\n",
    "data"
   ]
  },
  {
   "cell_type": "markdown",
   "metadata": {
    "variables": {
     "round(mean_con,2)": "14.05",
     "round(mean_incon,2)": "22.02",
     "round(sd_con,2)": "3.56",
     "round(sd_diff,2)": "4.86",
     "round(sd_incon,2)": "4.8",
     "round(sem,2)": "0.99"
    }
   },
   "source": [
    "First, we calculate mean of congruent condition ($mean_{c}$) and standard deviation ($SD_{c}$) , mean of incongruent condition ($mean_{i}$) and standard deviation ($SD_{i}$). $SD_{diff}$ is the standard deviation of the difference between the two conditions.\n",
    "\n",
    "$mean_{c} = $14.05\n",
    "\n",
    "$mean_{i} = $22.02\n",
    "\n",
    "$SD_{c} = $3.56\n",
    "\n",
    "$SD_{i} = $4.8\n",
    "\n",
    "$SD_{diff} = $4.86\n",
    "\n",
    "so, sample error of the mean (SEM) will be:\n",
    "\n",
    "$SEM = {SD_{diff}\\over \\sqrt{n}}$ =0.99"
   ]
  },
  {
   "cell_type": "markdown",
   "metadata": {},
   "source": [
    "#### T-test\n"
   ]
  },
  {
   "cell_type": "code",
   "execution_count": 6,
   "metadata": {
    "collapsed": true
   },
   "outputs": [],
   "source": [
    "t = (mean_con-mean_incon)/sem"
   ]
  },
  {
   "cell_type": "markdown",
   "metadata": {
    "variables": {
     "round(t,3)": "-8.021"
    }
   },
   "source": [
    "We'll get $t_{critical}$ from the t-table and $t_{statistic}$ by the formula below.\n",
    "\n",
    "$\\alpha = $0.05\n",
    "\n",
    "$t_{critical} = $ -1.711\n",
    "\n",
    "$t_{statistic} = {(mean_{c}-mean_{i})\\over SEM} =$ -8.021\n",
    "\n",
    "so, $p-value$<0.05"
   ]
  },
  {
   "cell_type": "markdown",
   "metadata": {},
   "source": [
    "#### numpy and scipy\n",
    "\n",
    "In python, t-test on two dependent samples is quite easy with only one function in scipy: *ttest_rel*"
   ]
  },
  {
   "cell_type": "code",
   "execution_count": 7,
   "metadata": {
    "collapsed": false
   },
   "outputs": [
    {
     "name": "stdout",
     "output_type": "stream",
     "text": [
      "t= -8.02070694411\n",
      "pvalue= 2.05150029286e-08\n"
     ]
    }
   ],
   "source": [
    "from scipy import stats\n",
    "t, p = stats.ttest_rel(data['Congruent'],data['Incongruent'])\n",
    "\n",
    "print \"t=\",t\n",
    "print \"pvalue=\",p/2"
   ]
  },
  {
   "cell_type": "markdown",
   "metadata": {},
   "source": [
    "It returns p-value to us, so again we found that p-value <0.05"
   ]
  },
  {
   "cell_type": "markdown",
   "metadata": {},
   "source": [
    "#### conclusion\n",
    "\n",
    "From the t-test result, it's clear that t−statistic < t−critical in the left tail. So the probability that sample means of the two conditions  are the same is so small. Actually, the p-value is about 0.000000020515. We reject the null hypothesis. It means that shuffling the words by changing their colour other than what their name is will significantly slow down participants' recognition of these words. The cause of this phenomenon may be because of the different area in brain to process recognizing colour and reading words. When there is a conflict, the brain will have to take extra time to finish the task."
   ]
  },
  {
   "cell_type": "markdown",
   "metadata": {},
   "source": [
    "#### Further statistics\n",
    "\n",
    "1\\. Standardised mean difference"
   ]
  },
  {
   "cell_type": "code",
   "execution_count": 8,
   "metadata": {
    "collapsed": false
   },
   "outputs": [],
   "source": [
    "cohen = (mean_con-mean_incon)/sd_diff"
   ]
  },
  {
   "cell_type": "markdown",
   "metadata": {
    "variables": {
     "round(cohen,2)": "-1.64"
    }
   },
   "source": [
    "$Cohen's d = {(\\overline x-\\mu)\\over SD_{diff}} = $ -1.64\n"
   ]
  },
  {
   "cell_type": "markdown",
   "metadata": {},
   "source": [
    "2\\. Correlation measures"
   ]
  },
  {
   "cell_type": "code",
   "execution_count": 9,
   "metadata": {
    "collapsed": true
   },
   "outputs": [],
   "source": [
    "r2 = (t**2)/(t**2+len(data)-1)"
   ]
  },
  {
   "cell_type": "markdown",
   "metadata": {
    "variables": {
     "round(r2,2)": "0.74"
    }
   },
   "source": [
    "$r^2 =  {(t_{statistic}\\;)\\over SD_{diff}} = $ 0.74"
   ]
  },
  {
   "cell_type": "markdown",
   "metadata": {},
   "source": [
    "This means 74% of the different performance inthe two conditions of experiment are due to the shuffling of the words by colour."
   ]
  },
  {
   "cell_type": "markdown",
   "metadata": {},
   "source": [
    "3\\. Confidence interval"
   ]
  },
  {
   "cell_type": "code",
   "execution_count": 10,
   "metadata": {
    "collapsed": true
   },
   "outputs": [],
   "source": [
    "margin = 2.064*sem\n",
    "low = (mean_con-mean_incon)-margin\n",
    "up = (mean_con-mean_incon)+margin"
   ]
  },
  {
   "cell_type": "markdown",
   "metadata": {
    "variables": {
     "round(low,2)": "-10.01",
     "round(margin,2)": "2.05",
     "round(up,2)": "-5.92"
    }
   },
   "source": [
    "The 95% of the confidence interval is (-10.01, -5.92), margin of error is 2.05"
   ]
  },
  {
   "cell_type": "markdown",
   "metadata": {},
   "source": [
    "# 5. Discussion\n",
    "\n",
    "Based on the dataset of the stroop effect experiment, we did a t-test and proved that the participants performed significantly different in two conditions and the psychological phenomenon may due to the brain activity or other biology behaviors. With the help of modern medicine, the electroencephalogram may help identify the different area of the brain that the participants used on the two experimental condiitions.\n",
    "\n",
    "We can also think of other similar effect like how the misspell of word affect readding. We can design a experiment to let participants read different sentences with or without misspelled words to measure the time them used. It would be fun."
   ]
  },
  {
   "cell_type": "code",
   "execution_count": null,
   "metadata": {
    "collapsed": true
   },
   "outputs": [],
   "source": []
  }
 ],
 "metadata": {
  "kernelspec": {
   "display_name": "Python 2",
   "language": "python",
   "name": "python2"
  },
  "language_info": {
   "codemirror_mode": {
    "name": "ipython",
    "version": 2
   },
   "file_extension": ".py",
   "mimetype": "text/x-python",
   "name": "python",
   "nbconvert_exporter": "python",
   "pygments_lexer": "ipython2",
   "version": "2.7.5"
  }
 },
 "nbformat": 4,
 "nbformat_minor": 0
}
