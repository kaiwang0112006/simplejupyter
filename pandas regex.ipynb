{
 "cells": [
  {
   "cell_type": "code",
   "execution_count": 1,
   "metadata": {
    "collapsed": false
   },
   "outputs": [
    {
     "name": "stdout",
     "output_type": "stream",
     "text": [
      "                            title\n",
      "0                    intermediate\n",
      "1                   Basmati/sadri\n",
      "2              temperate japonica\n",
      "3              Temperate japonica\n",
      "4                        Japonica\n",
      "5               Tropical japonica\n",
      "6   Aromatic (basmati/sandri type\n",
      "7                          indica\n",
      "8                        Aus/boro\n",
      "9                             Aus\n",
      "10                            aus\n",
      "11                       japonica\n",
      "12               tropical japnica\n",
      "13                               \n",
      "14                         Indica\n",
      "15              Intermediate type\n",
      "       title\n",
      "0     others\n",
      "1     others\n",
      "2   japonica\n",
      "3   japonica\n",
      "4   japonica\n",
      "5   japonica\n",
      "6     others\n",
      "7     indica\n",
      "8     others\n",
      "9     others\n",
      "10    others\n",
      "11  japonica\n",
      "12  japonica\n",
      "13    others\n",
      "14    indica\n",
      "15    others\n"
     ]
    }
   ],
   "source": [
    "import pandas as pd\n",
    "\n",
    "s3 = pd.DataFrame({'title':[\"intermediate\" ,\"Basmati/sadri\" ,\"temperate japonica\" ,\"Temperate japonica\" , \"Japonica\" ,\"Tropical japonica\" ,\"Aromatic (basmati/sandri type\" , \"indica\" , \"Aus/boro\" , \"Aus\" ,\"aus\" ,\"japonica\" , \"tropical japnica\", \"\" , \"Indica\" , \"Intermediate type\" ]})\n",
    "print s3\n",
    "s3.title.replace(r\".*[Jj]ap(o)?nica$\", \"japonica\" ,inplace=True,regex=True)\n",
    "s3.title.replace(r\"Indica\", \"indica\" ,inplace=True,regex=True)\n",
    "s3.title.replace(r'^(?!japonica|indica).+$|^(japonica|indica).+$|^$', \"others\", inplace=True, regex=True)\n",
    "#s3.title.replace('', \"others\", inplace=True, regex=True)\n",
    "print s3"
   ]
  },
  {
   "cell_type": "code",
   "execution_count": null,
   "metadata": {
    "collapsed": true
   },
   "outputs": [],
   "source": []
  }
 ],
 "metadata": {
  "kernelspec": {
   "display_name": "Python 2",
   "language": "python",
   "name": "python2"
  },
  "language_info": {
   "codemirror_mode": {
    "name": "ipython",
    "version": 2
   },
   "file_extension": ".py",
   "mimetype": "text/x-python",
   "name": "python",
   "nbconvert_exporter": "python",
   "pygments_lexer": "ipython2",
   "version": "2.7.5"
  }
 },
 "nbformat": 4,
 "nbformat_minor": 0
}
