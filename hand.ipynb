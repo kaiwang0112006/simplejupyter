{
 "cells": [
  {
   "cell_type": "code",
   "execution_count": 8,
   "metadata": {
    "collapsed": false
   },
   "outputs": [
    {
     "name": "stdout",
     "output_type": "stream",
     "text": [
      "    Handlength  Height Gender\n",
      "0       7.5000   71.00      M\n",
      "1       7.6250   68.50      M\n",
      "2       7.5625   67.00      M\n",
      "3       7.0000   61.00      F\n",
      "4       7.6250   67.00      F\n",
      "5       6.6250   62.00      F\n",
      "6       6.8750   65.00      F\n",
      "7       7.6250   70.86      M\n",
      "8       7.2500   59.00      F\n",
      "9       7.5000   70.00      M\n",
      "10      6.5625   63.00      F\n",
      "11      8.2500   73.00      M\n",
      "12      7.6250   74.00      M\n",
      "13      7.5000   73.00      M\n",
      "14      7.5625   69.00      M\n",
      "15      6.8750   67.00      F\n",
      "16      7.0000   65.00      M\n",
      "17      6.7500   63.50      F\n",
      "18      7.7500   68.50      M\n",
      "19      7.8750   75.50      M\n"
     ]
    }
   ],
   "source": [
    "import pandas\n",
    "pin = pandas.read_csv('hand.txt',delimiter='\\t')\n",
    "print pin"
   ]
  },
  {
   "cell_type": "code",
   "execution_count": 9,
   "metadata": {
    "collapsed": false
   },
   "outputs": [
    {
     "name": "stdout",
     "output_type": "stream",
     "text": [
      "    Handlength  Height Gender\n",
      "0       7.5000   71.00      M\n",
      "1       7.6250   68.50      M\n",
      "2       7.5625   67.00      M\n",
      "7       7.6250   70.86      M\n",
      "9       7.5000   70.00      M\n",
      "11      8.2500   73.00      M\n",
      "12      7.6250   74.00      M\n",
      "13      7.5000   73.00      M\n",
      "14      7.5625   69.00      M\n",
      "16      7.0000   65.00      M\n",
      "18      7.7500   68.50      M\n",
      "19      7.8750   75.50      M\n"
     ]
    }
   ],
   "source": [
    "pinM = pin[pin['Gender'] == 'M']\n",
    "print pinM"
   ]
  },
  {
   "cell_type": "code",
   "execution_count": 10,
   "metadata": {
    "collapsed": false
   },
   "outputs": [
    {
     "data": {
      "text/plain": [
       "array([ 64.7696719])"
      ]
     },
     "execution_count": 10,
     "metadata": {},
     "output_type": "execute_result"
    }
   ],
   "source": [
    "from sklearn import linear_model\n",
    "clf = linear_model.LinearRegression()\n",
    "\n",
    "clf.fit(pinM[['Handlength']], pinM['Height'])\n",
    "clf.predict(6.75)"
   ]
  },
  {
   "cell_type": "code",
   "execution_count": null,
   "metadata": {
    "collapsed": true
   },
   "outputs": [],
   "source": []
  }
 ],
 "metadata": {
  "kernelspec": {
   "display_name": "Python 2",
   "language": "python",
   "name": "python2"
  },
  "language_info": {
   "codemirror_mode": {
    "name": "ipython",
    "version": 2
   },
   "file_extension": ".py",
   "mimetype": "text/x-python",
   "name": "python",
   "nbconvert_exporter": "python",
   "pygments_lexer": "ipython2",
   "version": "2.7.5"
  }
 },
 "nbformat": 4,
 "nbformat_minor": 0
}
